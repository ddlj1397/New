{
  "nbformat": 4,
  "nbformat_minor": 0,
  "metadata": {
    "colab": {
      "name": "Assignment2.ipynb",
      "provenance": [],
      "authorship_tag": "ABX9TyNJBFlrc5qLVrO+tdgrx7n9",
      "include_colab_link": true
    },
    "kernelspec": {
      "name": "python3",
      "display_name": "Python 3"
    },
    "language_info": {
      "name": "python"
    }
  },
  "cells": [
    {
      "cell_type": "markdown",
      "metadata": {
        "id": "view-in-github",
        "colab_type": "text"
      },
      "source": [
        "<a href=\"https://colab.research.google.com/github/ddlj1397/New/blob/main/Assignment2.ipynb\" target=\"_parent\"><img src=\"https://colab.research.google.com/assets/colab-badge.svg\" alt=\"Open In Colab\"/></a>"
      ]
    },
    {
      "cell_type": "code",
      "execution_count": 3,
      "metadata": {
        "colab": {
          "base_uri": "https://localhost:8080/"
        },
        "id": "4ZDUM7AJ3j1O",
        "outputId": "96d94022-641b-4e62-8364-210890206e4e"
      },
      "outputs": [
        {
          "output_type": "stream",
          "name": "stdout",
          "text": [
            "Requirement already satisfied: geopandas in /usr/local/lib/python3.7/dist-packages (0.10.2)\n",
            "Requirement already satisfied: pyproj>=2.2.0 in /usr/local/lib/python3.7/dist-packages (from geopandas) (3.2.1)\n",
            "Requirement already satisfied: fiona>=1.8 in /usr/local/lib/python3.7/dist-packages (from geopandas) (1.8.21)\n",
            "Requirement already satisfied: pandas>=0.25.0 in /usr/local/lib/python3.7/dist-packages (from geopandas) (1.3.5)\n",
            "Requirement already satisfied: shapely>=1.6 in /usr/local/lib/python3.7/dist-packages (from geopandas) (1.8.1)\n",
            "Requirement already satisfied: six>=1.7 in /usr/local/lib/python3.7/dist-packages (from fiona>=1.8->geopandas) (1.15.0)\n",
            "Requirement already satisfied: certifi in /usr/local/lib/python3.7/dist-packages (from fiona>=1.8->geopandas) (2021.10.8)\n",
            "Requirement already satisfied: click-plugins>=1.0 in /usr/local/lib/python3.7/dist-packages (from fiona>=1.8->geopandas) (1.1.1)\n",
            "Requirement already satisfied: attrs>=17 in /usr/local/lib/python3.7/dist-packages (from fiona>=1.8->geopandas) (21.4.0)\n",
            "Requirement already satisfied: cligj>=0.5 in /usr/local/lib/python3.7/dist-packages (from fiona>=1.8->geopandas) (0.7.2)\n",
            "Requirement already satisfied: click>=4.0 in /usr/local/lib/python3.7/dist-packages (from fiona>=1.8->geopandas) (7.1.2)\n",
            "Requirement already satisfied: munch in /usr/local/lib/python3.7/dist-packages (from fiona>=1.8->geopandas) (2.5.0)\n",
            "Requirement already satisfied: setuptools in /usr/local/lib/python3.7/dist-packages (from fiona>=1.8->geopandas) (57.4.0)\n",
            "Requirement already satisfied: pytz>=2017.3 in /usr/local/lib/python3.7/dist-packages (from pandas>=0.25.0->geopandas) (2018.9)\n",
            "Requirement already satisfied: python-dateutil>=2.7.3 in /usr/local/lib/python3.7/dist-packages (from pandas>=0.25.0->geopandas) (2.8.2)\n",
            "Requirement already satisfied: numpy>=1.17.3 in /usr/local/lib/python3.7/dist-packages (from pandas>=0.25.0->geopandas) (1.21.5)\n"
          ]
        }
      ],
      "source": [
        "!pip install geopandas "
      ]
    },
    {
      "cell_type": "code",
      "source": [
        "!pip install mapclassify"
      ],
      "metadata": {
        "colab": {
          "base_uri": "https://localhost:8080/"
        },
        "id": "m-j_GIRT4XkK",
        "outputId": "67b5e043-07c8-4896-e3be-8bf42b67a1b7"
      },
      "execution_count": 4,
      "outputs": [
        {
          "output_type": "stream",
          "name": "stdout",
          "text": [
            "Requirement already satisfied: mapclassify in /usr/local/lib/python3.7/dist-packages (2.4.3)\n",
            "Requirement already satisfied: scipy>=1.0 in /usr/local/lib/python3.7/dist-packages (from mapclassify) (1.4.1)\n",
            "Requirement already satisfied: networkx in /usr/local/lib/python3.7/dist-packages (from mapclassify) (2.6.3)\n",
            "Requirement already satisfied: pandas>=1.0 in /usr/local/lib/python3.7/dist-packages (from mapclassify) (1.3.5)\n",
            "Requirement already satisfied: numpy>=1.3 in /usr/local/lib/python3.7/dist-packages (from mapclassify) (1.21.5)\n",
            "Requirement already satisfied: scikit-learn in /usr/local/lib/python3.7/dist-packages (from mapclassify) (1.0.2)\n",
            "Requirement already satisfied: pytz>=2017.3 in /usr/local/lib/python3.7/dist-packages (from pandas>=1.0->mapclassify) (2018.9)\n",
            "Requirement already satisfied: python-dateutil>=2.7.3 in /usr/local/lib/python3.7/dist-packages (from pandas>=1.0->mapclassify) (2.8.2)\n",
            "Requirement already satisfied: six>=1.5 in /usr/local/lib/python3.7/dist-packages (from python-dateutil>=2.7.3->pandas>=1.0->mapclassify) (1.15.0)\n",
            "Requirement already satisfied: threadpoolctl>=2.0.0 in /usr/local/lib/python3.7/dist-packages (from scikit-learn->mapclassify) (3.1.0)\n",
            "Requirement already satisfied: joblib>=0.11 in /usr/local/lib/python3.7/dist-packages (from scikit-learn->mapclassify) (1.1.0)\n"
          ]
        }
      ]
    },
    {
      "cell_type": "code",
      "source": [
        "!pip install earthpy\n",
        "import numpy as np\n",
        "import geopandas as gpd\n",
        "import folium\n",
        "import re\n",
        "import matplotlib\n",
        "import matplotlib.pyplot as plt\n",
        "import pandas as pd"
      ],
      "metadata": {
        "colab": {
          "base_uri": "https://localhost:8080/"
        },
        "id": "3yrRGxXE4fLN",
        "outputId": "bf3bb55c-943d-4687-caf6-f8ac12659322"
      },
      "execution_count": 5,
      "outputs": [
        {
          "output_type": "stream",
          "name": "stdout",
          "text": [
            "Requirement already satisfied: earthpy in /usr/local/lib/python3.7/dist-packages (0.9.4)\n",
            "Requirement already satisfied: matplotlib>=2.0.0 in /usr/local/lib/python3.7/dist-packages (from earthpy) (3.2.2)\n",
            "Requirement already satisfied: geopandas in /usr/local/lib/python3.7/dist-packages (from earthpy) (0.10.2)\n",
            "Requirement already satisfied: numpy>=1.14.0 in /usr/local/lib/python3.7/dist-packages (from earthpy) (1.21.5)\n",
            "Requirement already satisfied: requests in /usr/local/lib/python3.7/dist-packages (from earthpy) (2.23.0)\n",
            "Requirement already satisfied: rasterio in /usr/local/lib/python3.7/dist-packages (from earthpy) (1.2.10)\n",
            "Requirement already satisfied: scikit-image in /usr/local/lib/python3.7/dist-packages (from earthpy) (0.18.3)\n",
            "Requirement already satisfied: pyparsing!=2.0.4,!=2.1.2,!=2.1.6,>=2.0.1 in /usr/local/lib/python3.7/dist-packages (from matplotlib>=2.0.0->earthpy) (3.0.7)\n",
            "Requirement already satisfied: python-dateutil>=2.1 in /usr/local/lib/python3.7/dist-packages (from matplotlib>=2.0.0->earthpy) (2.8.2)\n",
            "Requirement already satisfied: cycler>=0.10 in /usr/local/lib/python3.7/dist-packages (from matplotlib>=2.0.0->earthpy) (0.11.0)\n",
            "Requirement already satisfied: kiwisolver>=1.0.1 in /usr/local/lib/python3.7/dist-packages (from matplotlib>=2.0.0->earthpy) (1.3.2)\n",
            "Requirement already satisfied: six>=1.5 in /usr/local/lib/python3.7/dist-packages (from python-dateutil>=2.1->matplotlib>=2.0.0->earthpy) (1.15.0)\n",
            "Requirement already satisfied: pyproj>=2.2.0 in /usr/local/lib/python3.7/dist-packages (from geopandas->earthpy) (3.2.1)\n",
            "Requirement already satisfied: shapely>=1.6 in /usr/local/lib/python3.7/dist-packages (from geopandas->earthpy) (1.8.1)\n",
            "Requirement already satisfied: fiona>=1.8 in /usr/local/lib/python3.7/dist-packages (from geopandas->earthpy) (1.8.21)\n",
            "Requirement already satisfied: pandas>=0.25.0 in /usr/local/lib/python3.7/dist-packages (from geopandas->earthpy) (1.3.5)\n",
            "Requirement already satisfied: setuptools in /usr/local/lib/python3.7/dist-packages (from fiona>=1.8->geopandas->earthpy) (57.4.0)\n",
            "Requirement already satisfied: munch in /usr/local/lib/python3.7/dist-packages (from fiona>=1.8->geopandas->earthpy) (2.5.0)\n",
            "Requirement already satisfied: cligj>=0.5 in /usr/local/lib/python3.7/dist-packages (from fiona>=1.8->geopandas->earthpy) (0.7.2)\n",
            "Requirement already satisfied: attrs>=17 in /usr/local/lib/python3.7/dist-packages (from fiona>=1.8->geopandas->earthpy) (21.4.0)\n",
            "Requirement already satisfied: click>=4.0 in /usr/local/lib/python3.7/dist-packages (from fiona>=1.8->geopandas->earthpy) (7.1.2)\n",
            "Requirement already satisfied: certifi in /usr/local/lib/python3.7/dist-packages (from fiona>=1.8->geopandas->earthpy) (2021.10.8)\n",
            "Requirement already satisfied: click-plugins>=1.0 in /usr/local/lib/python3.7/dist-packages (from fiona>=1.8->geopandas->earthpy) (1.1.1)\n",
            "Requirement already satisfied: pytz>=2017.3 in /usr/local/lib/python3.7/dist-packages (from pandas>=0.25.0->geopandas->earthpy) (2018.9)\n",
            "Requirement already satisfied: affine in /usr/local/lib/python3.7/dist-packages (from rasterio->earthpy) (2.3.0)\n",
            "Requirement already satisfied: snuggs>=1.4.1 in /usr/local/lib/python3.7/dist-packages (from rasterio->earthpy) (1.4.7)\n",
            "Requirement already satisfied: chardet<4,>=3.0.2 in /usr/local/lib/python3.7/dist-packages (from requests->earthpy) (3.0.4)\n",
            "Requirement already satisfied: idna<3,>=2.5 in /usr/local/lib/python3.7/dist-packages (from requests->earthpy) (2.10)\n",
            "Requirement already satisfied: urllib3!=1.25.0,!=1.25.1,<1.26,>=1.21.1 in /usr/local/lib/python3.7/dist-packages (from requests->earthpy) (1.24.3)\n",
            "Requirement already satisfied: networkx>=2.0 in /usr/local/lib/python3.7/dist-packages (from scikit-image->earthpy) (2.6.3)\n",
            "Requirement already satisfied: PyWavelets>=1.1.1 in /usr/local/lib/python3.7/dist-packages (from scikit-image->earthpy) (1.2.0)\n",
            "Requirement already satisfied: imageio>=2.3.0 in /usr/local/lib/python3.7/dist-packages (from scikit-image->earthpy) (2.4.1)\n",
            "Requirement already satisfied: tifffile>=2019.7.26 in /usr/local/lib/python3.7/dist-packages (from scikit-image->earthpy) (2021.11.2)\n",
            "Requirement already satisfied: pillow!=7.1.0,!=7.1.1,>=4.3.0 in /usr/local/lib/python3.7/dist-packages (from scikit-image->earthpy) (7.1.2)\n",
            "Requirement already satisfied: scipy>=1.0.1 in /usr/local/lib/python3.7/dist-packages (from scikit-image->earthpy) (1.4.1)\n"
          ]
        }
      ]
    },
    {
      "cell_type": "code",
      "source": [
        "import os"
      ],
      "metadata": {
        "id": "H_wzEE9iBrD1"
      },
      "execution_count": 6,
      "outputs": []
    },
    {
      "cell_type": "code",
      "source": [
        "os.getcwd()"
      ],
      "metadata": {
        "colab": {
          "base_uri": "https://localhost:8080/",
          "height": 35
        },
        "id": "AjYO8NQ75Fr-",
        "outputId": "fcc87074-6e43-40e9-a2fc-253ea9e6e458"
      },
      "execution_count": 7,
      "outputs": [
        {
          "output_type": "execute_result",
          "data": {
            "application/vnd.google.colaboratory.intrinsic+json": {
              "type": "string"
            },
            "text/plain": [
              "'/content'"
            ]
          },
          "metadata": {},
          "execution_count": 7
        }
      ]
    },
    {
      "cell_type": "code",
      "source": [
        "Alaska = gpd.read_file('/content/NID_dams_AK.shp')\n",
        "Alaska.head()"
      ],
      "metadata": {
        "colab": {
          "base_uri": "https://localhost:8080/",
          "height": 548
        },
        "id": "n9G2b89m82vh",
        "outputId": "fa8d86f1-0208-4151-cb4e-382d5c0d4f65"
      },
      "execution_count": 8,
      "outputs": [
        {
          "output_type": "execute_result",
          "data": {
            "text/html": [
              "\n",
              "  <div id=\"df-fe64de7b-b04b-4dea-a582-9044ea502bf8\">\n",
              "    <div class=\"colab-df-container\">\n",
              "      <div>\n",
              "<style scoped>\n",
              "    .dataframe tbody tr th:only-of-type {\n",
              "        vertical-align: middle;\n",
              "    }\n",
              "\n",
              "    .dataframe tbody tr th {\n",
              "        vertical-align: top;\n",
              "    }\n",
              "\n",
              "    .dataframe thead th {\n",
              "        text-align: right;\n",
              "    }\n",
              "</style>\n",
              "<table border=\"1\" class=\"dataframe\">\n",
              "  <thead>\n",
              "    <tr style=\"text-align: right;\">\n",
              "      <th></th>\n",
              "      <th>RECORDID</th>\n",
              "      <th>DAM_NAME</th>\n",
              "      <th>OTHER_DAM_</th>\n",
              "      <th>DAM_FORMER</th>\n",
              "      <th>STATEID</th>\n",
              "      <th>NIDID</th>\n",
              "      <th>LONGITUDE</th>\n",
              "      <th>LATITUDE</th>\n",
              "      <th>SECTION</th>\n",
              "      <th>COUNTY</th>\n",
              "      <th>RIVER</th>\n",
              "      <th>CITY</th>\n",
              "      <th>DISTANCE</th>\n",
              "      <th>OWNER_NAME</th>\n",
              "      <th>OWNER_TYPE</th>\n",
              "      <th>DAM_DESIGN</th>\n",
              "      <th>PRIVATE_DA</th>\n",
              "      <th>DAM_TYPE</th>\n",
              "      <th>CORE</th>\n",
              "      <th>FOUNDATION</th>\n",
              "      <th>PURPOSES</th>\n",
              "      <th>YEAR_COMPL</th>\n",
              "      <th>YEAR_MODIF</th>\n",
              "      <th>DAM_LENGTH</th>\n",
              "      <th>DAM_HEIGHT</th>\n",
              "      <th>STRUCTURAL</th>\n",
              "      <th>HYDRAULIC_</th>\n",
              "      <th>NID_HEIGHT</th>\n",
              "      <th>MAX_DISCHA</th>\n",
              "      <th>MAX_STORAG</th>\n",
              "      <th>NORMAL_STO</th>\n",
              "      <th>NID_STORAG</th>\n",
              "      <th>SURFACE_AR</th>\n",
              "      <th>DRAINAGE_A</th>\n",
              "      <th>HAZARD</th>\n",
              "      <th>EAP</th>\n",
              "      <th>INSPECTION</th>\n",
              "      <th>INSPECTI_1</th>\n",
              "      <th>STATE_REG_</th>\n",
              "      <th>STATE_REG1</th>\n",
              "      <th>SPILLWAY_T</th>\n",
              "      <th>SPILLWAY_W</th>\n",
              "      <th>OUTLET_GAT</th>\n",
              "      <th>VOLUME</th>\n",
              "      <th>NUMBER_OF_</th>\n",
              "      <th>LENGTH_OF_</th>\n",
              "      <th>WIDTH_OF_L</th>\n",
              "      <th>FED_FUNDIN</th>\n",
              "      <th>FED_DESIGN</th>\n",
              "      <th>FED_CONSTR</th>\n",
              "      <th>FED_REGULA</th>\n",
              "      <th>FED_INSPEC</th>\n",
              "      <th>FED_OPERAT</th>\n",
              "      <th>FED_OWNER</th>\n",
              "      <th>FED_OTHER</th>\n",
              "      <th>SOURCE_AGE</th>\n",
              "      <th>STATE</th>\n",
              "      <th>SUBMIT_DAT</th>\n",
              "      <th>URL_ADDRES</th>\n",
              "      <th>CONG_NAME</th>\n",
              "      <th>PARTY</th>\n",
              "      <th>CONG_DIST</th>\n",
              "      <th>OTHERSTRUC</th>\n",
              "      <th>NUMSEPARAT</th>\n",
              "      <th>PERMITTING</th>\n",
              "      <th>INSPECTI_2</th>\n",
              "      <th>ENFORCEMEN</th>\n",
              "      <th>JURISDICTI</th>\n",
              "      <th>EAP_LAST_R</th>\n",
              "      <th>geometry</th>\n",
              "    </tr>\n",
              "  </thead>\n",
              "  <tbody>\n",
              "    <tr>\n",
              "      <th>0</th>\n",
              "      <td>1</td>\n",
              "      <td>COOPER LAKE</td>\n",
              "      <td>None</td>\n",
              "      <td>None</td>\n",
              "      <td>None</td>\n",
              "      <td>AK00001</td>\n",
              "      <td>-149.823147</td>\n",
              "      <td>60.433708</td>\n",
              "      <td>N/A</td>\n",
              "      <td>KENAI PENINSULA</td>\n",
              "      <td>COOPER CREEK, KENAI RIVER</td>\n",
              "      <td>COOPER LANDING</td>\n",
              "      <td>6.0</td>\n",
              "      <td>CHUGACH ELECTRIC ASSOCIATION, INC.</td>\n",
              "      <td>P</td>\n",
              "      <td>None</td>\n",
              "      <td>Y</td>\n",
              "      <td>RE</td>\n",
              "      <td>FCZ</td>\n",
              "      <td>RSZ</td>\n",
              "      <td>H</td>\n",
              "      <td>1959</td>\n",
              "      <td>None</td>\n",
              "      <td>920</td>\n",
              "      <td>52.0</td>\n",
              "      <td>52.0</td>\n",
              "      <td>39.0</td>\n",
              "      <td>52.0</td>\n",
              "      <td>24500.0</td>\n",
              "      <td>127600.0</td>\n",
              "      <td>112000.0</td>\n",
              "      <td>127600.0</td>\n",
              "      <td>3100.0</td>\n",
              "      <td>31.0</td>\n",
              "      <td>H</td>\n",
              "      <td>Y</td>\n",
              "      <td>2017-07-27</td>\n",
              "      <td>1</td>\n",
              "      <td>N</td>\n",
              "      <td>None</td>\n",
              "      <td>U</td>\n",
              "      <td>50</td>\n",
              "      <td>None</td>\n",
              "      <td>0</td>\n",
              "      <td>0</td>\n",
              "      <td>0</td>\n",
              "      <td>0</td>\n",
              "      <td>None</td>\n",
              "      <td>None</td>\n",
              "      <td>None</td>\n",
              "      <td>FERC</td>\n",
              "      <td>FERC</td>\n",
              "      <td>None</td>\n",
              "      <td>None</td>\n",
              "      <td>None</td>\n",
              "      <td>FERC</td>\n",
              "      <td>AK</td>\n",
              "      <td>5-Aug-18</td>\n",
              "      <td>None</td>\n",
              "      <td>Don Young (R)</td>\n",
              "      <td>R</td>\n",
              "      <td>AK00</td>\n",
              "      <td>None</td>\n",
              "      <td>1</td>\n",
              "      <td>N</td>\n",
              "      <td>N</td>\n",
              "      <td>N</td>\n",
              "      <td>N</td>\n",
              "      <td>8-Jan-18</td>\n",
              "      <td>POINT (-149.82315 60.43371)</td>\n",
              "    </tr>\n",
              "    <tr>\n",
              "      <th>1</th>\n",
              "      <td>2</td>\n",
              "      <td>BLUE LAKE</td>\n",
              "      <td>None</td>\n",
              "      <td>None</td>\n",
              "      <td>None</td>\n",
              "      <td>AK00002</td>\n",
              "      <td>-135.191700</td>\n",
              "      <td>57.063300</td>\n",
              "      <td>T55S, R64E, S35</td>\n",
              "      <td>SITKA</td>\n",
              "      <td>SAWMILL CREEK</td>\n",
              "      <td>NONE</td>\n",
              "      <td>0.0</td>\n",
              "      <td>CITY AND BOROUGH OF SITKA</td>\n",
              "      <td>L</td>\n",
              "      <td>CAREY AND KRAMER</td>\n",
              "      <td>N</td>\n",
              "      <td>VA</td>\n",
              "      <td>HCK</td>\n",
              "      <td>RK</td>\n",
              "      <td>HRS</td>\n",
              "      <td>1961</td>\n",
              "      <td>None</td>\n",
              "      <td>288</td>\n",
              "      <td>294.0</td>\n",
              "      <td>210.0</td>\n",
              "      <td>136.0</td>\n",
              "      <td>294.0</td>\n",
              "      <td>14000.0</td>\n",
              "      <td>266000.0</td>\n",
              "      <td>266000.0</td>\n",
              "      <td>266000.0</td>\n",
              "      <td>1646.0</td>\n",
              "      <td>37.0</td>\n",
              "      <td>H</td>\n",
              "      <td>Y</td>\n",
              "      <td>2018-05-15</td>\n",
              "      <td>1</td>\n",
              "      <td>N</td>\n",
              "      <td>None</td>\n",
              "      <td>U</td>\n",
              "      <td>140</td>\n",
              "      <td>None</td>\n",
              "      <td>0</td>\n",
              "      <td>0</td>\n",
              "      <td>0</td>\n",
              "      <td>0</td>\n",
              "      <td>None</td>\n",
              "      <td>None</td>\n",
              "      <td>None</td>\n",
              "      <td>FERC</td>\n",
              "      <td>FERC</td>\n",
              "      <td>None</td>\n",
              "      <td>None</td>\n",
              "      <td>None</td>\n",
              "      <td>FERC</td>\n",
              "      <td>AK</td>\n",
              "      <td>5-Aug-18</td>\n",
              "      <td>None</td>\n",
              "      <td>Don Young (R)</td>\n",
              "      <td>R</td>\n",
              "      <td>AK00</td>\n",
              "      <td>None</td>\n",
              "      <td>1</td>\n",
              "      <td>N</td>\n",
              "      <td>N</td>\n",
              "      <td>N</td>\n",
              "      <td>N</td>\n",
              "      <td>27-Dec-17</td>\n",
              "      <td>POINT (-135.19170 57.06330)</td>\n",
              "    </tr>\n",
              "    <tr>\n",
              "      <th>2</th>\n",
              "      <td>3</td>\n",
              "      <td>SALMON CREEK</td>\n",
              "      <td>None</td>\n",
              "      <td>None</td>\n",
              "      <td>None</td>\n",
              "      <td>AK00003</td>\n",
              "      <td>-134.403608</td>\n",
              "      <td>58.341850</td>\n",
              "      <td>T41S,R67E,S2</td>\n",
              "      <td>JUNEAU</td>\n",
              "      <td>SALMON CREEK, GASTINEAU INLET</td>\n",
              "      <td>JUNEAU</td>\n",
              "      <td>2.0</td>\n",
              "      <td>ALASKA ELECTRIC LIGHT &amp; POWER COMPANY</td>\n",
              "      <td>P</td>\n",
              "      <td>LARS JORGENSEN</td>\n",
              "      <td>Y</td>\n",
              "      <td>VA</td>\n",
              "      <td>HCK</td>\n",
              "      <td>RK</td>\n",
              "      <td>HORS</td>\n",
              "      <td>1914</td>\n",
              "      <td>None</td>\n",
              "      <td>648</td>\n",
              "      <td>170.0</td>\n",
              "      <td>175.0</td>\n",
              "      <td>140.0</td>\n",
              "      <td>175.0</td>\n",
              "      <td>810.0</td>\n",
              "      <td>18000.0</td>\n",
              "      <td>12000.0</td>\n",
              "      <td>18000.0</td>\n",
              "      <td>165.0</td>\n",
              "      <td>5.0</td>\n",
              "      <td>H</td>\n",
              "      <td>Y</td>\n",
              "      <td>2018-05-17</td>\n",
              "      <td>1</td>\n",
              "      <td>N</td>\n",
              "      <td>None</td>\n",
              "      <td>U</td>\n",
              "      <td>60</td>\n",
              "      <td>None</td>\n",
              "      <td>52000</td>\n",
              "      <td>0</td>\n",
              "      <td>0</td>\n",
              "      <td>0</td>\n",
              "      <td>None</td>\n",
              "      <td>None</td>\n",
              "      <td>None</td>\n",
              "      <td>FERC</td>\n",
              "      <td>FERC</td>\n",
              "      <td>None</td>\n",
              "      <td>None</td>\n",
              "      <td>None</td>\n",
              "      <td>FERC</td>\n",
              "      <td>AK</td>\n",
              "      <td>5-Aug-18</td>\n",
              "      <td>None</td>\n",
              "      <td>Don Young (R)</td>\n",
              "      <td>R</td>\n",
              "      <td>AK00</td>\n",
              "      <td>None</td>\n",
              "      <td>1</td>\n",
              "      <td>N</td>\n",
              "      <td>N</td>\n",
              "      <td>N</td>\n",
              "      <td>N</td>\n",
              "      <td>27-Sep-17</td>\n",
              "      <td>POINT (-134.40361 58.34185)</td>\n",
              "    </tr>\n",
              "    <tr>\n",
              "      <th>3</th>\n",
              "      <td>4</td>\n",
              "      <td>ANNEX CREEK</td>\n",
              "      <td>None</td>\n",
              "      <td>None</td>\n",
              "      <td>None</td>\n",
              "      <td>AK00004</td>\n",
              "      <td>-134.126578</td>\n",
              "      <td>58.326939</td>\n",
              "      <td>T41S,R69E,S9</td>\n",
              "      <td>JUNEAU</td>\n",
              "      <td>ANNEX CREEK, TAKU INLET</td>\n",
              "      <td>NONE</td>\n",
              "      <td>1.0</td>\n",
              "      <td>ALASKA ELECTRIC LIGHT &amp; POWER COMPANY</td>\n",
              "      <td>P</td>\n",
              "      <td>FELIX J. TONER</td>\n",
              "      <td>Y</td>\n",
              "      <td>OT</td>\n",
              "      <td>FXK</td>\n",
              "      <td>RK</td>\n",
              "      <td>HR</td>\n",
              "      <td>1968</td>\n",
              "      <td>None</td>\n",
              "      <td>115</td>\n",
              "      <td>20.0</td>\n",
              "      <td>20.0</td>\n",
              "      <td>20.0</td>\n",
              "      <td>20.0</td>\n",
              "      <td>458.0</td>\n",
              "      <td>23400.0</td>\n",
              "      <td>23400.0</td>\n",
              "      <td>23400.0</td>\n",
              "      <td>264.0</td>\n",
              "      <td>6.0</td>\n",
              "      <td>L</td>\n",
              "      <td>NR</td>\n",
              "      <td>2018-05-16</td>\n",
              "      <td>3</td>\n",
              "      <td>N</td>\n",
              "      <td>None</td>\n",
              "      <td>U</td>\n",
              "      <td>57</td>\n",
              "      <td>None</td>\n",
              "      <td>0</td>\n",
              "      <td>0</td>\n",
              "      <td>0</td>\n",
              "      <td>0</td>\n",
              "      <td>None</td>\n",
              "      <td>None</td>\n",
              "      <td>None</td>\n",
              "      <td>FERC</td>\n",
              "      <td>FERC</td>\n",
              "      <td>None</td>\n",
              "      <td>None</td>\n",
              "      <td>None</td>\n",
              "      <td>FERC</td>\n",
              "      <td>AK</td>\n",
              "      <td>5-Aug-18</td>\n",
              "      <td>None</td>\n",
              "      <td>Don Young (R)</td>\n",
              "      <td>R</td>\n",
              "      <td>AK00</td>\n",
              "      <td>None</td>\n",
              "      <td>2</td>\n",
              "      <td>N</td>\n",
              "      <td>N</td>\n",
              "      <td>N</td>\n",
              "      <td>N</td>\n",
              "      <td>27-Sep-17</td>\n",
              "      <td>POINT (-134.12658 58.32694)</td>\n",
              "    </tr>\n",
              "    <tr>\n",
              "      <th>4</th>\n",
              "      <td>5</td>\n",
              "      <td>CRYSTAL LAKE</td>\n",
              "      <td>None</td>\n",
              "      <td>None</td>\n",
              "      <td>None</td>\n",
              "      <td>AK00005</td>\n",
              "      <td>-132.845500</td>\n",
              "      <td>56.600000</td>\n",
              "      <td>T61S,R81E,S6</td>\n",
              "      <td>WRANGELL-PETERSBURG</td>\n",
              "      <td>CRYSTAL CREEK, BLIND RIVER</td>\n",
              "      <td>N/A</td>\n",
              "      <td>0.0</td>\n",
              "      <td>CITY OF PETERSBURG</td>\n",
              "      <td>L</td>\n",
              "      <td>None</td>\n",
              "      <td>N</td>\n",
              "      <td>ER</td>\n",
              "      <td>FMK</td>\n",
              "      <td>K</td>\n",
              "      <td>H</td>\n",
              "      <td>1955</td>\n",
              "      <td>None</td>\n",
              "      <td>205</td>\n",
              "      <td>43.0</td>\n",
              "      <td>34.5</td>\n",
              "      <td>30.0</td>\n",
              "      <td>43.0</td>\n",
              "      <td>2632.0</td>\n",
              "      <td>5800.0</td>\n",
              "      <td>5200.0</td>\n",
              "      <td>5800.0</td>\n",
              "      <td>233.0</td>\n",
              "      <td>1.5</td>\n",
              "      <td>H</td>\n",
              "      <td>Y</td>\n",
              "      <td>2017-08-31</td>\n",
              "      <td>1</td>\n",
              "      <td>N</td>\n",
              "      <td>None</td>\n",
              "      <td>U</td>\n",
              "      <td>46</td>\n",
              "      <td>None</td>\n",
              "      <td>0</td>\n",
              "      <td>0</td>\n",
              "      <td>0</td>\n",
              "      <td>0</td>\n",
              "      <td>None</td>\n",
              "      <td>None</td>\n",
              "      <td>None</td>\n",
              "      <td>FERC</td>\n",
              "      <td>FERC</td>\n",
              "      <td>None</td>\n",
              "      <td>None</td>\n",
              "      <td>None</td>\n",
              "      <td>FERC</td>\n",
              "      <td>AK</td>\n",
              "      <td>5-Aug-18</td>\n",
              "      <td>None</td>\n",
              "      <td>Don Young (R)</td>\n",
              "      <td>R</td>\n",
              "      <td>AK00</td>\n",
              "      <td>None</td>\n",
              "      <td>1</td>\n",
              "      <td>N</td>\n",
              "      <td>N</td>\n",
              "      <td>N</td>\n",
              "      <td>N</td>\n",
              "      <td>19-Dec-17</td>\n",
              "      <td>POINT (-132.84550 56.60000)</td>\n",
              "    </tr>\n",
              "  </tbody>\n",
              "</table>\n",
              "</div>\n",
              "      <button class=\"colab-df-convert\" onclick=\"convertToInteractive('df-fe64de7b-b04b-4dea-a582-9044ea502bf8')\"\n",
              "              title=\"Convert this dataframe to an interactive table.\"\n",
              "              style=\"display:none;\">\n",
              "        \n",
              "  <svg xmlns=\"http://www.w3.org/2000/svg\" height=\"24px\"viewBox=\"0 0 24 24\"\n",
              "       width=\"24px\">\n",
              "    <path d=\"M0 0h24v24H0V0z\" fill=\"none\"/>\n",
              "    <path d=\"M18.56 5.44l.94 2.06.94-2.06 2.06-.94-2.06-.94-.94-2.06-.94 2.06-2.06.94zm-11 1L8.5 8.5l.94-2.06 2.06-.94-2.06-.94L8.5 2.5l-.94 2.06-2.06.94zm10 10l.94 2.06.94-2.06 2.06-.94-2.06-.94-.94-2.06-.94 2.06-2.06.94z\"/><path d=\"M17.41 7.96l-1.37-1.37c-.4-.4-.92-.59-1.43-.59-.52 0-1.04.2-1.43.59L10.3 9.45l-7.72 7.72c-.78.78-.78 2.05 0 2.83L4 21.41c.39.39.9.59 1.41.59.51 0 1.02-.2 1.41-.59l7.78-7.78 2.81-2.81c.8-.78.8-2.07 0-2.86zM5.41 20L4 18.59l7.72-7.72 1.47 1.35L5.41 20z\"/>\n",
              "  </svg>\n",
              "      </button>\n",
              "      \n",
              "  <style>\n",
              "    .colab-df-container {\n",
              "      display:flex;\n",
              "      flex-wrap:wrap;\n",
              "      gap: 12px;\n",
              "    }\n",
              "\n",
              "    .colab-df-convert {\n",
              "      background-color: #E8F0FE;\n",
              "      border: none;\n",
              "      border-radius: 50%;\n",
              "      cursor: pointer;\n",
              "      display: none;\n",
              "      fill: #1967D2;\n",
              "      height: 32px;\n",
              "      padding: 0 0 0 0;\n",
              "      width: 32px;\n",
              "    }\n",
              "\n",
              "    .colab-df-convert:hover {\n",
              "      background-color: #E2EBFA;\n",
              "      box-shadow: 0px 1px 2px rgba(60, 64, 67, 0.3), 0px 1px 3px 1px rgba(60, 64, 67, 0.15);\n",
              "      fill: #174EA6;\n",
              "    }\n",
              "\n",
              "    [theme=dark] .colab-df-convert {\n",
              "      background-color: #3B4455;\n",
              "      fill: #D2E3FC;\n",
              "    }\n",
              "\n",
              "    [theme=dark] .colab-df-convert:hover {\n",
              "      background-color: #434B5C;\n",
              "      box-shadow: 0px 1px 3px 1px rgba(0, 0, 0, 0.15);\n",
              "      filter: drop-shadow(0px 1px 2px rgba(0, 0, 0, 0.3));\n",
              "      fill: #FFFFFF;\n",
              "    }\n",
              "  </style>\n",
              "\n",
              "      <script>\n",
              "        const buttonEl =\n",
              "          document.querySelector('#df-fe64de7b-b04b-4dea-a582-9044ea502bf8 button.colab-df-convert');\n",
              "        buttonEl.style.display =\n",
              "          google.colab.kernel.accessAllowed ? 'block' : 'none';\n",
              "\n",
              "        async function convertToInteractive(key) {\n",
              "          const element = document.querySelector('#df-fe64de7b-b04b-4dea-a582-9044ea502bf8');\n",
              "          const dataTable =\n",
              "            await google.colab.kernel.invokeFunction('convertToInteractive',\n",
              "                                                     [key], {});\n",
              "          if (!dataTable) return;\n",
              "\n",
              "          const docLinkHtml = 'Like what you see? Visit the ' +\n",
              "            '<a target=\"_blank\" href=https://colab.research.google.com/notebooks/data_table.ipynb>data table notebook</a>'\n",
              "            + ' to learn more about interactive tables.';\n",
              "          element.innerHTML = '';\n",
              "          dataTable['output_type'] = 'display_data';\n",
              "          await google.colab.output.renderOutput(dataTable, element);\n",
              "          const docLink = document.createElement('div');\n",
              "          docLink.innerHTML = docLinkHtml;\n",
              "          element.appendChild(docLink);\n",
              "        }\n",
              "      </script>\n",
              "    </div>\n",
              "  </div>\n",
              "  "
            ],
            "text/plain": [
              "   RECORDID      DAM_NAME  ... EAP_LAST_R                     geometry\n",
              "0         1   COOPER LAKE  ...   8-Jan-18  POINT (-149.82315 60.43371)\n",
              "1         2     BLUE LAKE  ...  27-Dec-17  POINT (-135.19170 57.06330)\n",
              "2         3  SALMON CREEK  ...  27-Sep-17  POINT (-134.40361 58.34185)\n",
              "3         4   ANNEX CREEK  ...  27-Sep-17  POINT (-134.12658 58.32694)\n",
              "4         5  CRYSTAL LAKE  ...  19-Dec-17  POINT (-132.84550 56.60000)\n",
              "\n",
              "[5 rows x 70 columns]"
            ]
          },
          "metadata": {},
          "execution_count": 8
        }
      ]
    },
    {
      "cell_type": "code",
      "source": [
        "Alaska.plot();"
      ],
      "metadata": {
        "colab": {
          "base_uri": "https://localhost:8080/",
          "height": 265
        },
        "id": "7L6RD3uAobkR",
        "outputId": "b21a7460-f671-42a8-9a99-a536c9d99a59"
      },
      "execution_count": 9,
      "outputs": [
        {
          "output_type": "display_data",
          "data": {
            "image/png": "[encoded data removed]",
            "text/plain": [
              "<Figure size 432x288 with 1 Axes>"
            ]
          },
          "metadata": {
            "needs_background": "light"
          }
        }
      ]
    },
    {
      "cell_type": "code",
      "source": [
        "AK = gpd.read_file('/content/Ak.geojson')\n",
        "AK.plot()"
      ],
      "metadata": {
        "colab": {
          "base_uri": "https://localhost:8080/",
          "height": 104
        },
        "id": "5-4AN1uwPwc2",
        "outputId": "f627fa54-12c6-4d54-f430-11aab8deaf67"
      },
      "execution_count": 10,
      "outputs": [
        {
          "output_type": "execute_result",
          "data": {
            "text/plain": [
              "<matplotlib.axes._subplots.AxesSubplot at 0x7f556b08a350>"
            ]
          },
          "metadata": {},
          "execution_count": 10
        },
        {
          "output_type": "display_data",
          "data": {
            "image/png": "[encoded data removed]",
            "text/plain": [
              "<Figure size 432x288 with 1 Axes>"
            ]
          },
          "metadata": {
            "needs_background": "light"
          }
        }
      ]
    },
    {
      "cell_type": "code",
      "source": [
        "AK.head()"
      ],
      "metadata": {
        "colab": {
          "base_uri": "https://localhost:8080/",
          "height": 206
        },
        "id": "kWz4aUjhZ4QK",
        "outputId": "354d0535-2f10-4b93-f86c-20774f69a191"
      },
      "execution_count": 11,
      "outputs": [
        {
          "output_type": "execute_result",
          "data": {
            "text/html": [
              "\n",
              "  <div id=\"df-7fbf4fbe-2450-46b6-bc03-3ed567ce3e73\">\n",
              "    <div class=\"colab-df-container\">\n",
              "      <div>\n",
              "<style scoped>\n",
              "    .dataframe tbody tr th:only-of-type {\n",
              "        vertical-align: middle;\n",
              "    }\n",
              "\n",
              "    .dataframe tbody tr th {\n",
              "        vertical-align: top;\n",
              "    }\n",
              "\n",
              "    .dataframe thead th {\n",
              "        text-align: right;\n",
              "    }\n",
              "</style>\n",
              "<table border=\"1\" class=\"dataframe\">\n",
              "  <thead>\n",
              "    <tr style=\"text-align: right;\">\n",
              "      <th></th>\n",
              "      <th>OBJECTID</th>\n",
              "      <th>CommunityName</th>\n",
              "      <th>FIPS</th>\n",
              "      <th>last_update_date</th>\n",
              "      <th>created_date</th>\n",
              "      <th>Census_Area</th>\n",
              "      <th>geometry</th>\n",
              "    </tr>\n",
              "  </thead>\n",
              "  <tbody>\n",
              "    <tr>\n",
              "      <th>0</th>\n",
              "      <td>1</td>\n",
              "      <td>Aleutians East Borough</td>\n",
              "      <td>02013</td>\n",
              "      <td>None</td>\n",
              "      <td>None</td>\n",
              "      <td>None</td>\n",
              "      <td>MULTIPOLYGON (((-159.02861 56.66942, -159.0286...</td>\n",
              "    </tr>\n",
              "    <tr>\n",
              "      <th>1</th>\n",
              "      <td>2</td>\n",
              "      <td>Aleutians West Census Area</td>\n",
              "      <td>02016</td>\n",
              "      <td>None</td>\n",
              "      <td>None</td>\n",
              "      <td>Y</td>\n",
              "      <td>MULTIPOLYGON (((-178.82404 51.35807, -178.8256...</td>\n",
              "    </tr>\n",
              "    <tr>\n",
              "      <th>2</th>\n",
              "      <td>3</td>\n",
              "      <td>Southeast Fairbanks Census Area</td>\n",
              "      <td>02240</td>\n",
              "      <td>None</td>\n",
              "      <td>None</td>\n",
              "      <td>Y</td>\n",
              "      <td>POLYGON ((-141.27600 65.73931, -141.27706 65.7...</td>\n",
              "    </tr>\n",
              "    <tr>\n",
              "      <th>3</th>\n",
              "      <td>4</td>\n",
              "      <td>Dillingham Census Area</td>\n",
              "      <td>02070</td>\n",
              "      <td>None</td>\n",
              "      <td>None</td>\n",
              "      <td>Y</td>\n",
              "      <td>MULTIPOLYGON (((-155.96009 60.66566, -155.9601...</td>\n",
              "    </tr>\n",
              "    <tr>\n",
              "      <th>4</th>\n",
              "      <td>5</td>\n",
              "      <td>Lake and Peninsula Borough</td>\n",
              "      <td>02164</td>\n",
              "      <td>None</td>\n",
              "      <td>None</td>\n",
              "      <td>None</td>\n",
              "      <td>POLYGON ((-158.80382 55.63217, -158.23746 55.6...</td>\n",
              "    </tr>\n",
              "  </tbody>\n",
              "</table>\n",
              "</div>\n",
              "      <button class=\"colab-df-convert\" onclick=\"convertToInteractive('df-7fbf4fbe-2450-46b6-bc03-3ed567ce3e73')\"\n",
              "              title=\"Convert this dataframe to an interactive table.\"\n",
              "              style=\"display:none;\">\n",
              "        \n",
              "  <svg xmlns=\"http://www.w3.org/2000/svg\" height=\"24px\"viewBox=\"0 0 24 24\"\n",
              "       width=\"24px\">\n",
              "    <path d=\"M0 0h24v24H0V0z\" fill=\"none\"/>\n",
              "    <path d=\"M18.56 5.44l.94 2.06.94-2.06 2.06-.94-2.06-.94-.94-2.06-.94 2.06-2.06.94zm-11 1L8.5 8.5l.94-2.06 2.06-.94-2.06-.94L8.5 2.5l-.94 2.06-2.06.94zm10 10l.94 2.06.94-2.06 2.06-.94-2.06-.94-.94-2.06-.94 2.06-2.06.94z\"/><path d=\"M17.41 7.96l-1.37-1.37c-.4-.4-.92-.59-1.43-.59-.52 0-1.04.2-1.43.59L10.3 9.45l-7.72 7.72c-.78.78-.78 2.05 0 2.83L4 21.41c.39.39.9.59 1.41.59.51 0 1.02-.2 1.41-.59l7.78-7.78 2.81-2.81c.8-.78.8-2.07 0-2.86zM5.41 20L4 18.59l7.72-7.72 1.47 1.35L5.41 20z\"/>\n",
              "  </svg>\n",
              "      </button>\n",
              "      \n",
              "  <style>\n",
              "    .colab-df-container {\n",
              "      display:flex;\n",
              "      flex-wrap:wrap;\n",
              "      gap: 12px;\n",
              "    }\n",
              "\n",
              "    .colab-df-convert {\n",
              "      background-color: #E8F0FE;\n",
              "      border: none;\n",
              "      border-radius: 50%;\n",
              "      cursor: pointer;\n",
              "      display: none;\n",
              "      fill: #1967D2;\n",
              "      height: 32px;\n",
              "      padding: 0 0 0 0;\n",
              "      width: 32px;\n",
              "    }\n",
              "\n",
              "    .colab-df-convert:hover {\n",
              "      background-color: #E2EBFA;\n",
              "      box-shadow: 0px 1px 2px rgba(60, 64, 67, 0.3), 0px 1px 3px 1px rgba(60, 64, 67, 0.15);\n",
              "      fill: #174EA6;\n",
              "    }\n",
              "\n",
              "    [theme=dark] .colab-df-convert {\n",
              "      background-color: #3B4455;\n",
              "      fill: #D2E3FC;\n",
              "    }\n",
              "\n",
              "    [theme=dark] .colab-df-convert:hover {\n",
              "      background-color: #434B5C;\n",
              "      box-shadow: 0px 1px 3px 1px rgba(0, 0, 0, 0.15);\n",
              "      filter: drop-shadow(0px 1px 2px rgba(0, 0, 0, 0.3));\n",
              "      fill: #FFFFFF;\n",
              "    }\n",
              "  </style>\n",
              "\n",
              "      <script>\n",
              "        const buttonEl =\n",
              "          document.querySelector('#df-7fbf4fbe-2450-46b6-bc03-3ed567ce3e73 button.colab-df-convert');\n",
              "        buttonEl.style.display =\n",
              "          google.colab.kernel.accessAllowed ? 'block' : 'none';\n",
              "\n",
              "        async function convertToInteractive(key) {\n",
              "          const element = document.querySelector('#df-7fbf4fbe-2450-46b6-bc03-3ed567ce3e73');\n",
              "          const dataTable =\n",
              "            await google.colab.kernel.invokeFunction('convertToInteractive',\n",
              "                                                     [key], {});\n",
              "          if (!dataTable) return;\n",
              "\n",
              "          const docLinkHtml = 'Like what you see? Visit the ' +\n",
              "            '<a target=\"_blank\" href=https://colab.research.google.com/notebooks/data_table.ipynb>data table notebook</a>'\n",
              "            + ' to learn more about interactive tables.';\n",
              "          element.innerHTML = '';\n",
              "          dataTable['output_type'] = 'display_data';\n",
              "          await google.colab.output.renderOutput(dataTable, element);\n",
              "          const docLink = document.createElement('div');\n",
              "          docLink.innerHTML = docLinkHtml;\n",
              "          element.appendChild(docLink);\n",
              "        }\n",
              "      </script>\n",
              "    </div>\n",
              "  </div>\n",
              "  "
            ],
            "text/plain": [
              "   OBJECTID  ...                                           geometry\n",
              "0         1  ...  MULTIPOLYGON (((-159.02861 56.66942, -159.0286...\n",
              "1         2  ...  MULTIPOLYGON (((-178.82404 51.35807, -178.8256...\n",
              "2         3  ...  POLYGON ((-141.27600 65.73931, -141.27706 65.7...\n",
              "3         4  ...  MULTIPOLYGON (((-155.96009 60.66566, -155.9601...\n",
              "4         5  ...  POLYGON ((-158.80382 55.63217, -158.23746 55.6...\n",
              "\n",
              "[5 rows x 7 columns]"
            ]
          },
          "metadata": {},
          "execution_count": 11
        }
      ]
    },
    {
      "cell_type": "code",
      "source": [
        "Alaska.plot(marker='.', color='blue', markersize= 30)"
      ],
      "metadata": {
        "colab": {
          "base_uri": "https://localhost:8080/",
          "height": 282
        },
        "id": "sUkdEJaqlwZQ",
        "outputId": "68cf963e-0346-4347-87fe-626c797386b3"
      },
      "execution_count": 12,
      "outputs": [
        {
          "output_type": "execute_result",
          "data": {
            "text/plain": [
              "<matplotlib.axes._subplots.AxesSubplot at 0x7f556b08dad0>"
            ]
          },
          "metadata": {},
          "execution_count": 12
        },
        {
          "output_type": "display_data",
          "data": {
            "image/png": "[encoded data removed]",
            "text/plain": [
              "<Figure size 432x288 with 1 Axes>"
            ]
          },
          "metadata": {
            "needs_background": "light"
          }
        }
      ]
    },
    {
      "cell_type": "code",
      "source": [
        "Alaska.dtypes"
      ],
      "metadata": {
        "colab": {
          "base_uri": "https://localhost:8080/"
        },
        "id": "L7Un-iiwZf2t",
        "outputId": "2b7c124e-de15-473d-91fd-66c0a5c13d01"
      },
      "execution_count": 13,
      "outputs": [
        {
          "output_type": "execute_result",
          "data": {
            "text/plain": [
              "RECORDID         int64\n",
              "DAM_NAME        object\n",
              "OTHER_DAM_      object\n",
              "DAM_FORMER      object\n",
              "STATEID         object\n",
              "                ...   \n",
              "INSPECTI_2      object\n",
              "ENFORCEMEN      object\n",
              "JURISDICTI      object\n",
              "EAP_LAST_R      object\n",
              "geometry      geometry\n",
              "Length: 70, dtype: object"
            ]
          },
          "metadata": {},
          "execution_count": 13
        }
      ]
    },
    {
      "cell_type": "code",
      "source": [
        "minx, miny, maxx, maxy = AK.total_bounds\n",
        "ax = AK.plot()\n",
        "ax.set_xlim(minx, maxx)\n",
        "ax.set_ylim(miny, maxy)"
      ],
      "metadata": {
        "colab": {
          "base_uri": "https://localhost:8080/",
          "height": 105
        },
        "id": "DBTvfH4kv2VM",
        "outputId": "9fab022f-6de0-43b6-a1a0-153f7e9268bb"
      },
      "execution_count": 14,
      "outputs": [
        {
          "output_type": "execute_result",
          "data": {
            "text/plain": [
              "(51.17509067300006, 71.44105871157834)"
            ]
          },
          "metadata": {},
          "execution_count": 14
        },
        {
          "output_type": "display_data",
          "data": {
            "image/png": "[encoded data removed]",
            "text/plain": [
              "<Figure size 432x288 with 1 Axes>"
            ]
          },
          "metadata": {
            "needs_background": "light"
          }
        }
      ]
    },
    {
      "cell_type": "code",
      "source": [
        "Alaska = Alaska.to_crs(AK.crs)\n",
        "base = AK.plot(color='white', edgecolor='black', figsize = (100, 100))\n",
        "Alaska.plot(ax=base, marker='o', color='red', markersize=150);"
      ],
      "metadata": {
        "colab": {
          "base_uri": "https://localhost:8080/",
          "height": 201
        },
        "id": "TlWFJieRalzh",
        "outputId": "afe6a890-a446-43aa-d9c2-b623d60e391c"
      },
      "execution_count": 16,
      "outputs": [
        {
          "output_type": "display_data",
          "data": {
            "image/png": "[encoded data removed]",
            "text/plain": [
              "<Figure size 7200x7200 with 1 Axes>"
            ]
          },
          "metadata": {
            "needs_background": "light"
          }
        }
      ]
    }
  ]
}